{
 "cells": [
  {
   "cell_type": "markdown",
   "metadata": {},
   "source": [
    "# Web scraping assignment\n"
   ]
  },
  {
   "cell_type": "markdown",
   "metadata": {},
   "source": [
    "> The targeted site: [books.toscrape ](https://books.toscrape.com/index.html)"
   ]
  },
  {
   "cell_type": "markdown",
   "metadata": {},
   "source": [
    "First we import the required libraries"
   ]
  },
  {
   "cell_type": "code",
   "execution_count": 6,
   "metadata": {},
   "outputs": [],
   "source": [
    "import csv \n",
    "import requests as rqst\n",
    "from bs4 import BeautifulSoup as b_s"
   ]
  },
  {
   "cell_type": "markdown",
   "metadata": {},
   "source": [
    "When inspect the page found that,\n",
    "The following show the tags that contain information that we need to scrap.\n",
    "\n",
    "---\n",
    "\n",
    "```html\n",
    "\n",
    "rating:\n",
    "<p class=\"star-rating Three\">\n",
    "  \n",
    "title:\n",
    "<h3><a href=\"a-light-in-the-attic_1000/index.html\" title=\"A Light in the Attic\">A Light in the ...</a></h3>\n",
    "\n",
    "price:\n",
    "<div class=\"product_price\">\n",
    "<p class=\"price_color\">�51.77</p>\n",
    "\n",
    "Availability:\n",
    "<p class=\"instock availability\"> <i class=\"icon-ok\"></i> In stock </p>\n",
    "\n",
    "</div>\n",
    "\n",
    "```\n"
   ]
  },
  {
   "cell_type": "markdown",
   "metadata": {},
   "source": [
    "---\n",
    "First I initialized a list to hold the data called books_details "
   ]
  },
  {
   "cell_type": "code",
   "execution_count": 7,
   "metadata": {},
   "outputs": [],
   "source": [
    "books_details=[]\n",
    "NUMBERS_={\"One\":1,\"Two\":2,\"Three\":3,\"Four\":4,\"Five\":5} # to convert rating to integer value"
   ]
  },
  {
   "cell_type": "markdown",
   "metadata": {},
   "source": [
    "Then I use beautiful Soup to collect data from page"
   ]
  },
  {
   "cell_type": "code",
   "execution_count": 8,
   "metadata": {},
   "outputs": [],
   "source": [
    "def get_books_info(books,pn):\n",
    "    for book in books:\n",
    "        b_rating=book.find(\"p\",class_=\"star-rating\").get(\"class\")[1]\n",
    "        b_title=book.find(\"h3\").a['title']\n",
    "        b_link= book.find(\"h3\").a.get(\"href\")\n",
    "        b_price=book.find(\"div\",class_=\"product_price\").find(\"p\",class_=\"price_color\").string[1:]\n",
    "        b_availability=book.find(\"div\",class_=\"product_price\").find(\"p\",class_=\"availability\").get_text().strip()\n",
    "\n",
    "        books_details.append({\n",
    "            \"title\":b_title,\n",
    "            \"rating\":NUMBERS_[b_rating],\n",
    "            \"price\":b_price,\n",
    "            \"availability\":b_availability,\n",
    "            \"link\":f\"https://books.toscrape.com/catalogue/{b_link}\",   \n",
    "            \"page_num_in_site\":pn+1\n",
    "            \n",
    "        })"
   ]
  },
  {
   "cell_type": "markdown",
   "metadata": {},
   "source": [
    "Then I <font style=\"color:yellow;font-size:40px;\">ask the user</font> to enter the number of pages he want to collect from this site, and start to request the page content using requests library"
   ]
  },
  {
   "cell_type": "code",
   "execution_count": 9,
   "metadata": {},
   "outputs": [],
   "source": [
    "page_number = int(input(\"How many pages do you need?  : \"))\n",
    "\n",
    "for i in range(page_number):\n",
    "    page_content = rqst.get(url=f'https://books.toscrape.com/catalogue/page-{i+1}.html',timeout=20).content\n",
    "    soup =b_s(markup=page_content,features= \"lxml\")\n",
    "    # site_pages_number=int(soup.find(\"li\",class_=\"current\").get_text().split()[3])\n",
    "    \n",
    "    books=soup.find_all(\"article\",class_=\"product_pod\")\n",
    "    \"\"\"\n",
    "    after collecting the information i called the get_books_info function and passing the page that it will deal with.\n",
    "    \"\"\"\n",
    "    get_books_info(books,i)"
   ]
  },
  {
   "cell_type": "markdown",
   "metadata": {},
   "source": [
    "---\n",
    "Finally, I put all the data in a CSV file using with open() and CSV library."
   ]
  },
  {
   "cell_type": "code",
   "execution_count": 10,
   "metadata": {},
   "outputs": [
    {
     "name": "stdout",
     "output_type": "stream",
     "text": [
      " file Created: \n"
     ]
    }
   ],
   "source": [
    "keys=books_details[0].keys()\n",
    "file_name=f\"books_details_1_to_{page_number}.csv\"\n",
    "\n",
    "with open(file_name,mode=\"w\",encoding=\"utf-8-sig\",newline=\"\") as output_file:\n",
    "    dict_writer = csv.DictWriter(f=output_file, fieldnames= keys)\n",
    "    dict_writer.writeheader()\n",
    "    dict_writer.writerows(rowdicts=books_details)\n",
    "    print(\" file Created: \")"
   ]
  },
  {
   "cell_type": "markdown",
   "metadata": {},
   "source": [
    "author: Mohamed.8.eleraqi@gmaill.com\n"
   ]
  }
 ],
 "metadata": {
  "kernelspec": {
   "display_name": "base",
   "language": "python",
   "name": "python3"
  },
  "language_info": {
   "codemirror_mode": {
    "name": "ipython",
    "version": 3
   },
   "file_extension": ".py",
   "mimetype": "text/x-python",
   "name": "python",
   "nbconvert_exporter": "python",
   "pygments_lexer": "ipython3",
   "version": "3.12.7"
  }
 },
 "nbformat": 4,
 "nbformat_minor": 2
}
